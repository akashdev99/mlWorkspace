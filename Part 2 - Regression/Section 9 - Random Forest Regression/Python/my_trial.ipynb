{
 "cells": [
  {
   "cell_type": "code",
   "execution_count": 2,
   "metadata": {},
   "outputs": [],
   "source": [
    "import pandas as pd"
   ]
  },
  {
   "cell_type": "code",
   "execution_count": 3,
   "metadata": {},
   "outputs": [
    {
     "name": "stdout",
     "output_type": "stream",
     "text": [
      "   Level\n",
      "0      1\n",
      "1      2\n",
      "2      3\n",
      "0    45000\n",
      "1    50000\n",
      "2    60000\n",
      "Name: Salary, dtype: int64\n"
     ]
    }
   ],
   "source": [
    "data = pd.read_csv(\"Position_Salaries.csv\")\n",
    "\n",
    "X = data.iloc[:,1:-1]\n",
    "y = data.iloc[:,-1]\n",
    "\n",
    "print(X.iloc[:3,:])\n",
    "print(y[:3])"
   ]
  },
  {
   "cell_type": "code",
   "execution_count": 4,
   "metadata": {},
   "outputs": [
    {
     "data": {
      "text/html": [
       "<style>#sk-container-id-1 {color: black;}#sk-container-id-1 pre{padding: 0;}#sk-container-id-1 div.sk-toggleable {background-color: white;}#sk-container-id-1 label.sk-toggleable__label {cursor: pointer;display: block;width: 100%;margin-bottom: 0;padding: 0.3em;box-sizing: border-box;text-align: center;}#sk-container-id-1 label.sk-toggleable__label-arrow:before {content: \"▸\";float: left;margin-right: 0.25em;color: #696969;}#sk-container-id-1 label.sk-toggleable__label-arrow:hover:before {color: black;}#sk-container-id-1 div.sk-estimator:hover label.sk-toggleable__label-arrow:before {color: black;}#sk-container-id-1 div.sk-toggleable__content {max-height: 0;max-width: 0;overflow: hidden;text-align: left;background-color: #f0f8ff;}#sk-container-id-1 div.sk-toggleable__content pre {margin: 0.2em;color: black;border-radius: 0.25em;background-color: #f0f8ff;}#sk-container-id-1 input.sk-toggleable__control:checked~div.sk-toggleable__content {max-height: 200px;max-width: 100%;overflow: auto;}#sk-container-id-1 input.sk-toggleable__control:checked~label.sk-toggleable__label-arrow:before {content: \"▾\";}#sk-container-id-1 div.sk-estimator input.sk-toggleable__control:checked~label.sk-toggleable__label {background-color: #d4ebff;}#sk-container-id-1 div.sk-label input.sk-toggleable__control:checked~label.sk-toggleable__label {background-color: #d4ebff;}#sk-container-id-1 input.sk-hidden--visually {border: 0;clip: rect(1px 1px 1px 1px);clip: rect(1px, 1px, 1px, 1px);height: 1px;margin: -1px;overflow: hidden;padding: 0;position: absolute;width: 1px;}#sk-container-id-1 div.sk-estimator {font-family: monospace;background-color: #f0f8ff;border: 1px dotted black;border-radius: 0.25em;box-sizing: border-box;margin-bottom: 0.5em;}#sk-container-id-1 div.sk-estimator:hover {background-color: #d4ebff;}#sk-container-id-1 div.sk-parallel-item::after {content: \"\";width: 100%;border-bottom: 1px solid gray;flex-grow: 1;}#sk-container-id-1 div.sk-label:hover label.sk-toggleable__label {background-color: #d4ebff;}#sk-container-id-1 div.sk-serial::before {content: \"\";position: absolute;border-left: 1px solid gray;box-sizing: border-box;top: 0;bottom: 0;left: 50%;z-index: 0;}#sk-container-id-1 div.sk-serial {display: flex;flex-direction: column;align-items: center;background-color: white;padding-right: 0.2em;padding-left: 0.2em;position: relative;}#sk-container-id-1 div.sk-item {position: relative;z-index: 1;}#sk-container-id-1 div.sk-parallel {display: flex;align-items: stretch;justify-content: center;background-color: white;position: relative;}#sk-container-id-1 div.sk-item::before, #sk-container-id-1 div.sk-parallel-item::before {content: \"\";position: absolute;border-left: 1px solid gray;box-sizing: border-box;top: 0;bottom: 0;left: 50%;z-index: -1;}#sk-container-id-1 div.sk-parallel-item {display: flex;flex-direction: column;z-index: 1;position: relative;background-color: white;}#sk-container-id-1 div.sk-parallel-item:first-child::after {align-self: flex-end;width: 50%;}#sk-container-id-1 div.sk-parallel-item:last-child::after {align-self: flex-start;width: 50%;}#sk-container-id-1 div.sk-parallel-item:only-child::after {width: 0;}#sk-container-id-1 div.sk-dashed-wrapped {border: 1px dashed gray;margin: 0 0.4em 0.5em 0.4em;box-sizing: border-box;padding-bottom: 0.4em;background-color: white;}#sk-container-id-1 div.sk-label label {font-family: monospace;font-weight: bold;display: inline-block;line-height: 1.2em;}#sk-container-id-1 div.sk-label-container {text-align: center;}#sk-container-id-1 div.sk-container {/* jupyter's `normalize.less` sets `[hidden] { display: none; }` but bootstrap.min.css set `[hidden] { display: none !important; }` so we also need the `!important` here to be able to override the default hidden behavior on the sphinx rendered scikit-learn.org. See: https://github.com/scikit-learn/scikit-learn/issues/21755 */display: inline-block !important;position: relative;}#sk-container-id-1 div.sk-text-repr-fallback {display: none;}</style><div id=\"sk-container-id-1\" class=\"sk-top-container\"><div class=\"sk-text-repr-fallback\"><pre>RandomForestRegressor(n_estimators=10, random_state=2)</pre><b>In a Jupyter environment, please rerun this cell to show the HTML representation or trust the notebook. <br />On GitHub, the HTML representation is unable to render, please try loading this page with nbviewer.org.</b></div><div class=\"sk-container\" hidden><div class=\"sk-item\"><div class=\"sk-estimator sk-toggleable\"><input class=\"sk-toggleable__control sk-hidden--visually\" id=\"sk-estimator-id-1\" type=\"checkbox\" checked><label for=\"sk-estimator-id-1\" class=\"sk-toggleable__label sk-toggleable__label-arrow\">RandomForestRegressor</label><div class=\"sk-toggleable__content\"><pre>RandomForestRegressor(n_estimators=10, random_state=2)</pre></div></div></div></div></div>"
      ],
      "text/plain": [
       "RandomForestRegressor(n_estimators=10, random_state=2)"
      ]
     },
     "execution_count": 4,
     "metadata": {},
     "output_type": "execute_result"
    }
   ],
   "source": [
    "from sklearn.ensemble import RandomForestRegressor\n",
    "\n",
    "rt = RandomForestRegressor(n_estimators=10 , random_state=2)\n",
    "rt.fit(X , y)"
   ]
  },
  {
   "cell_type": "code",
   "execution_count": 5,
   "metadata": {},
   "outputs": [
    {
     "name": "stdout",
     "output_type": "stream",
     "text": [
      "[157000.]\n"
     ]
    },
    {
     "name": "stderr",
     "output_type": "stream",
     "text": [
      "C:\\Users\\akash\\AppData\\Local\\Packages\\PythonSoftwareFoundation.Python.3.9_qbz5n2kfra8p0\\LocalCache\\local-packages\\Python39\\site-packages\\sklearn\\base.py:465: UserWarning: X does not have valid feature names, but RandomForestRegressor was fitted with feature names\n",
      "  warnings.warn(\n",
      "C:\\Users\\akash\\AppData\\Local\\Packages\\PythonSoftwareFoundation.Python.3.9_qbz5n2kfra8p0\\LocalCache\\local-packages\\Python39\\site-packages\\sklearn\\utils\\deprecation.py:101: FutureWarning: Attribute `base_estimator_` was deprecated in version 1.2 and will be removed in 1.4. Use `estimator_` instead.\n",
      "  warnings.warn(msg, category=FutureWarning)\n"
     ]
    },
    {
     "data": {
      "text/html": [
       "<style>#sk-container-id-2 {color: black;}#sk-container-id-2 pre{padding: 0;}#sk-container-id-2 div.sk-toggleable {background-color: white;}#sk-container-id-2 label.sk-toggleable__label {cursor: pointer;display: block;width: 100%;margin-bottom: 0;padding: 0.3em;box-sizing: border-box;text-align: center;}#sk-container-id-2 label.sk-toggleable__label-arrow:before {content: \"▸\";float: left;margin-right: 0.25em;color: #696969;}#sk-container-id-2 label.sk-toggleable__label-arrow:hover:before {color: black;}#sk-container-id-2 div.sk-estimator:hover label.sk-toggleable__label-arrow:before {color: black;}#sk-container-id-2 div.sk-toggleable__content {max-height: 0;max-width: 0;overflow: hidden;text-align: left;background-color: #f0f8ff;}#sk-container-id-2 div.sk-toggleable__content pre {margin: 0.2em;color: black;border-radius: 0.25em;background-color: #f0f8ff;}#sk-container-id-2 input.sk-toggleable__control:checked~div.sk-toggleable__content {max-height: 200px;max-width: 100%;overflow: auto;}#sk-container-id-2 input.sk-toggleable__control:checked~label.sk-toggleable__label-arrow:before {content: \"▾\";}#sk-container-id-2 div.sk-estimator input.sk-toggleable__control:checked~label.sk-toggleable__label {background-color: #d4ebff;}#sk-container-id-2 div.sk-label input.sk-toggleable__control:checked~label.sk-toggleable__label {background-color: #d4ebff;}#sk-container-id-2 input.sk-hidden--visually {border: 0;clip: rect(1px 1px 1px 1px);clip: rect(1px, 1px, 1px, 1px);height: 1px;margin: -1px;overflow: hidden;padding: 0;position: absolute;width: 1px;}#sk-container-id-2 div.sk-estimator {font-family: monospace;background-color: #f0f8ff;border: 1px dotted black;border-radius: 0.25em;box-sizing: border-box;margin-bottom: 0.5em;}#sk-container-id-2 div.sk-estimator:hover {background-color: #d4ebff;}#sk-container-id-2 div.sk-parallel-item::after {content: \"\";width: 100%;border-bottom: 1px solid gray;flex-grow: 1;}#sk-container-id-2 div.sk-label:hover label.sk-toggleable__label {background-color: #d4ebff;}#sk-container-id-2 div.sk-serial::before {content: \"\";position: absolute;border-left: 1px solid gray;box-sizing: border-box;top: 0;bottom: 0;left: 50%;z-index: 0;}#sk-container-id-2 div.sk-serial {display: flex;flex-direction: column;align-items: center;background-color: white;padding-right: 0.2em;padding-left: 0.2em;position: relative;}#sk-container-id-2 div.sk-item {position: relative;z-index: 1;}#sk-container-id-2 div.sk-parallel {display: flex;align-items: stretch;justify-content: center;background-color: white;position: relative;}#sk-container-id-2 div.sk-item::before, #sk-container-id-2 div.sk-parallel-item::before {content: \"\";position: absolute;border-left: 1px solid gray;box-sizing: border-box;top: 0;bottom: 0;left: 50%;z-index: -1;}#sk-container-id-2 div.sk-parallel-item {display: flex;flex-direction: column;z-index: 1;position: relative;background-color: white;}#sk-container-id-2 div.sk-parallel-item:first-child::after {align-self: flex-end;width: 50%;}#sk-container-id-2 div.sk-parallel-item:last-child::after {align-self: flex-start;width: 50%;}#sk-container-id-2 div.sk-parallel-item:only-child::after {width: 0;}#sk-container-id-2 div.sk-dashed-wrapped {border: 1px dashed gray;margin: 0 0.4em 0.5em 0.4em;box-sizing: border-box;padding-bottom: 0.4em;background-color: white;}#sk-container-id-2 div.sk-label label {font-family: monospace;font-weight: bold;display: inline-block;line-height: 1.2em;}#sk-container-id-2 div.sk-label-container {text-align: center;}#sk-container-id-2 div.sk-container {/* jupyter's `normalize.less` sets `[hidden] { display: none; }` but bootstrap.min.css set `[hidden] { display: none !important; }` so we also need the `!important` here to be able to override the default hidden behavior on the sphinx rendered scikit-learn.org. See: https://github.com/scikit-learn/scikit-learn/issues/21755 */display: inline-block !important;position: relative;}#sk-container-id-2 div.sk-text-repr-fallback {display: none;}</style><div id=\"sk-container-id-2\" class=\"sk-top-container\"><div class=\"sk-text-repr-fallback\"><pre>DecisionTreeRegressor()</pre><b>In a Jupyter environment, please rerun this cell to show the HTML representation or trust the notebook. <br />On GitHub, the HTML representation is unable to render, please try loading this page with nbviewer.org.</b></div><div class=\"sk-container\" hidden><div class=\"sk-item\"><div class=\"sk-estimator sk-toggleable\"><input class=\"sk-toggleable__control sk-hidden--visually\" id=\"sk-estimator-id-2\" type=\"checkbox\" checked><label for=\"sk-estimator-id-2\" class=\"sk-toggleable__label sk-toggleable__label-arrow\">DecisionTreeRegressor</label><div class=\"sk-toggleable__content\"><pre>DecisionTreeRegressor()</pre></div></div></div></div></div>"
      ],
      "text/plain": [
       "DecisionTreeRegressor()"
      ]
     },
     "execution_count": 5,
     "metadata": {},
     "output_type": "execute_result"
    }
   ],
   "source": [
    "value = rt.predict([[6.5]])\n",
    "print(value)\n",
    "\n",
    "\n",
    "rt.base_estimator_"
   ]
  },
  {
   "cell_type": "code",
   "execution_count": 6,
   "metadata": {},
   "outputs": [
    {
     "data": {
      "image/svg+xml": [
       "<?xml version=\"1.0\" encoding=\"UTF-8\" standalone=\"no\"?>\n",
       "<!DOCTYPE svg PUBLIC \"-//W3C//DTD SVG 1.1//EN\"\n",
       " \"http://www.w3.org/Graphics/SVG/1.1/DTD/svg11.dtd\">\n",
       "<!-- Generated by graphviz version 9.0.0 (20230911.1827)\n",
       " -->\n",
       "<!-- Title: Tree Pages: 1 -->\n",
       "<svg width=\"811pt\" height=\"616pt\"\n",
       " viewBox=\"0.00 0.00 811.00 615.50\" xmlns=\"http://www.w3.org/2000/svg\" xmlns:xlink=\"http://www.w3.org/1999/xlink\">\n",
       "<g id=\"graph0\" class=\"graph\" transform=\"scale(1 1) rotate(0) translate(4 611.5)\">\n",
       "<title>Tree</title>\n",
       "<polygon fill=\"white\" stroke=\"none\" points=\"-4,4 -4,-611.5 807,-611.5 807,4 -4,4\"/>\n",
       "<!-- 0 -->\n",
       "<g id=\"node1\" class=\"node\">\n",
       "<title>0</title>\n",
       "<polygon fill=\"#fbeee4\" stroke=\"black\" points=\"741.25,-607.5 516.75,-607.5 516.75,-533.5 741.25,-533.5 741.25,-607.5\"/>\n",
       "<text text-anchor=\"middle\" x=\"629\" y=\"-590.2\" font-family=\"Helvetica,sans-Serif\" font-size=\"14.00\">level &lt;= 8.5</text>\n",
       "<text text-anchor=\"middle\" x=\"629\" y=\"-573.7\" font-family=\"Helvetica,sans-Serif\" font-size=\"14.00\">squared_error = 77572250000.0</text>\n",
       "<text text-anchor=\"middle\" x=\"629\" y=\"-557.2\" font-family=\"Helvetica,sans-Serif\" font-size=\"14.00\">samples = 7</text>\n",
       "<text text-anchor=\"middle\" x=\"629\" y=\"-540.7\" font-family=\"Helvetica,sans-Serif\" font-size=\"14.00\">value = 174500.0</text>\n",
       "</g>\n",
       "<!-- 1 -->\n",
       "<g id=\"node2\" class=\"node\">\n",
       "<title>1</title>\n",
       "<polygon fill=\"#fefaf7\" stroke=\"black\" points=\"643.38,-497.5 410.62,-497.5 410.62,-423.5 643.38,-423.5 643.38,-497.5\"/>\n",
       "<text text-anchor=\"middle\" x=\"527\" y=\"-480.2\" font-family=\"Helvetica,sans-Serif\" font-size=\"14.00\">level &lt;= 6.0</text>\n",
       "<text text-anchor=\"middle\" x=\"527\" y=\"-463.7\" font-family=\"Helvetica,sans-Serif\" font-size=\"14.00\">squared_error = 2061728395.062</text>\n",
       "<text text-anchor=\"middle\" x=\"527\" y=\"-447.2\" font-family=\"Helvetica,sans-Serif\" font-size=\"14.00\">samples = 6</text>\n",
       "<text text-anchor=\"middle\" x=\"527\" y=\"-430.7\" font-family=\"Helvetica,sans-Serif\" font-size=\"14.00\">value = 82777.778</text>\n",
       "</g>\n",
       "<!-- 0&#45;&gt;1 -->\n",
       "<g id=\"edge1\" class=\"edge\">\n",
       "<title>0&#45;&gt;1</title>\n",
       "<path fill=\"none\" stroke=\"black\" d=\"M594.75,-533.24C586.51,-524.51 577.61,-515.09 569.06,-506.03\"/>\n",
       "<polygon fill=\"black\" stroke=\"black\" points=\"571.78,-503.82 562.37,-498.95 566.69,-508.62 571.78,-503.82\"/>\n",
       "<text text-anchor=\"middle\" x=\"560.62\" y=\"-517.79\" font-family=\"Helvetica,sans-Serif\" font-size=\"14.00\">True</text>\n",
       "</g>\n",
       "<!-- 12 -->\n",
       "<g id=\"node13\" class=\"node\">\n",
       "<title>12</title>\n",
       "<polygon fill=\"#e58139\" stroke=\"black\" points=\"803,-489.25 661,-489.25 661,-431.75 803,-431.75 803,-489.25\"/>\n",
       "<text text-anchor=\"middle\" x=\"732\" y=\"-471.95\" font-family=\"Helvetica,sans-Serif\" font-size=\"14.00\">squared_error = 0.0</text>\n",
       "<text text-anchor=\"middle\" x=\"732\" y=\"-455.45\" font-family=\"Helvetica,sans-Serif\" font-size=\"14.00\">samples = 1</text>\n",
       "<text text-anchor=\"middle\" x=\"732\" y=\"-438.95\" font-family=\"Helvetica,sans-Serif\" font-size=\"14.00\">value = 1000000.0</text>\n",
       "</g>\n",
       "<!-- 0&#45;&gt;12 -->\n",
       "<g id=\"edge12\" class=\"edge\">\n",
       "<title>0&#45;&gt;12</title>\n",
       "<path fill=\"none\" stroke=\"black\" d=\"M663.58,-533.24C674.49,-521.8 686.54,-509.16 697.45,-497.72\"/>\n",
       "<polygon fill=\"black\" stroke=\"black\" points=\"699.75,-500.39 704.12,-490.74 694.68,-495.56 699.75,-500.39\"/>\n",
       "<text text-anchor=\"middle\" x=\"705.75\" y=\"-509.59\" font-family=\"Helvetica,sans-Serif\" font-size=\"14.00\">False</text>\n",
       "</g>\n",
       "<!-- 2 -->\n",
       "<g id=\"node3\" class=\"node\">\n",
       "<title>2</title>\n",
       "<polygon fill=\"#fefcfa\" stroke=\"black\" points=\"535,-387.5 327,-387.5 327,-313.5 535,-313.5 535,-387.5\"/>\n",
       "<text text-anchor=\"middle\" x=\"431\" y=\"-370.2\" font-family=\"Helvetica,sans-Serif\" font-size=\"14.00\">level &lt;= 3.5</text>\n",
       "<text text-anchor=\"middle\" x=\"431\" y=\"-353.7\" font-family=\"Helvetica,sans-Serif\" font-size=\"14.00\">squared_error = 387109375.0</text>\n",
       "<text text-anchor=\"middle\" x=\"431\" y=\"-337.2\" font-family=\"Helvetica,sans-Serif\" font-size=\"14.00\">samples = 5</text>\n",
       "<text text-anchor=\"middle\" x=\"431\" y=\"-320.7\" font-family=\"Helvetica,sans-Serif\" font-size=\"14.00\">value = 68125.0</text>\n",
       "</g>\n",
       "<!-- 1&#45;&gt;2 -->\n",
       "<g id=\"edge2\" class=\"edge\">\n",
       "<title>1&#45;&gt;2</title>\n",
       "<path fill=\"none\" stroke=\"black\" d=\"M494.77,-423.24C487.09,-414.6 478.81,-405.28 470.83,-396.31\"/>\n",
       "<polygon fill=\"black\" stroke=\"black\" points=\"473.58,-394.13 464.32,-388.98 468.35,-398.78 473.58,-394.13\"/>\n",
       "</g>\n",
       "<!-- 11 -->\n",
       "<g id=\"node12\" class=\"node\">\n",
       "<title>11</title>\n",
       "<polygon fill=\"#fbebdf\" stroke=\"black\" points=\"695,-379.25 553,-379.25 553,-321.75 695,-321.75 695,-379.25\"/>\n",
       "<text text-anchor=\"middle\" x=\"624\" y=\"-361.95\" font-family=\"Helvetica,sans-Serif\" font-size=\"14.00\">squared_error = 0.0</text>\n",
       "<text text-anchor=\"middle\" x=\"624\" y=\"-345.45\" font-family=\"Helvetica,sans-Serif\" font-size=\"14.00\">samples = 1</text>\n",
       "<text text-anchor=\"middle\" x=\"624\" y=\"-328.95\" font-family=\"Helvetica,sans-Serif\" font-size=\"14.00\">value = 200000.0</text>\n",
       "</g>\n",
       "<!-- 1&#45;&gt;11 -->\n",
       "<g id=\"edge11\" class=\"edge\">\n",
       "<title>1&#45;&gt;11</title>\n",
       "<path fill=\"none\" stroke=\"black\" d=\"M559.57,-423.24C569.74,-411.91 580.97,-399.41 591.17,-388.06\"/>\n",
       "<polygon fill=\"black\" stroke=\"black\" points=\"593.63,-390.55 597.71,-380.77 588.43,-385.87 593.63,-390.55\"/>\n",
       "</g>\n",
       "<!-- 3 -->\n",
       "<g id=\"node4\" class=\"node\">\n",
       "<title>3</title>\n",
       "<polygon fill=\"#fffefd\" stroke=\"black\" points=\"419.88,-277.5 220.12,-277.5 220.12,-203.5 419.88,-203.5 419.88,-277.5\"/>\n",
       "<text text-anchor=\"middle\" x=\"320\" y=\"-260.2\" font-family=\"Helvetica,sans-Serif\" font-size=\"14.00\">level &lt;= 2.5</text>\n",
       "<text text-anchor=\"middle\" x=\"320\" y=\"-243.7\" font-family=\"Helvetica,sans-Serif\" font-size=\"14.00\">squared_error = 40000000.0</text>\n",
       "<text text-anchor=\"middle\" x=\"320\" y=\"-227.2\" font-family=\"Helvetica,sans-Serif\" font-size=\"14.00\">samples = 3</text>\n",
       "<text text-anchor=\"middle\" x=\"320\" y=\"-210.7\" font-family=\"Helvetica,sans-Serif\" font-size=\"14.00\">value = 55000.0</text>\n",
       "</g>\n",
       "<!-- 2&#45;&gt;3 -->\n",
       "<g id=\"edge3\" class=\"edge\">\n",
       "<title>2&#45;&gt;3</title>\n",
       "<path fill=\"none\" stroke=\"black\" d=\"M393.73,-313.24C384.67,-304.42 374.88,-294.9 365.49,-285.76\"/>\n",
       "<polygon fill=\"black\" stroke=\"black\" points=\"368.05,-283.37 358.45,-278.91 363.17,-288.39 368.05,-283.37\"/>\n",
       "</g>\n",
       "<!-- 8 -->\n",
       "<g id=\"node9\" class=\"node\">\n",
       "<title>8</title>\n",
       "<polygon fill=\"#fef9f6\" stroke=\"black\" points=\"646,-277.5 438,-277.5 438,-203.5 646,-203.5 646,-277.5\"/>\n",
       "<text text-anchor=\"middle\" x=\"542\" y=\"-260.2\" font-family=\"Helvetica,sans-Serif\" font-size=\"14.00\">level &lt;= 4.5</text>\n",
       "<text text-anchor=\"middle\" x=\"542\" y=\"-243.7\" font-family=\"Helvetica,sans-Serif\" font-size=\"14.00\">squared_error = 200000000.0</text>\n",
       "<text text-anchor=\"middle\" x=\"542\" y=\"-227.2\" font-family=\"Helvetica,sans-Serif\" font-size=\"14.00\">samples = 2</text>\n",
       "<text text-anchor=\"middle\" x=\"542\" y=\"-210.7\" font-family=\"Helvetica,sans-Serif\" font-size=\"14.00\">value = 90000.0</text>\n",
       "</g>\n",
       "<!-- 2&#45;&gt;8 -->\n",
       "<g id=\"edge8\" class=\"edge\">\n",
       "<title>2&#45;&gt;8</title>\n",
       "<path fill=\"none\" stroke=\"black\" d=\"M468.27,-313.24C477.33,-304.42 487.12,-294.9 496.51,-285.76\"/>\n",
       "<polygon fill=\"black\" stroke=\"black\" points=\"498.83,-288.39 503.55,-278.91 493.95,-283.37 498.83,-288.39\"/>\n",
       "</g>\n",
       "<!-- 4 -->\n",
       "<g id=\"node5\" class=\"node\">\n",
       "<title>4</title>\n",
       "<polygon fill=\"#fffffe\" stroke=\"black\" points=\"246.75,-167.5 55.25,-167.5 55.25,-93.5 246.75,-93.5 246.75,-167.5\"/>\n",
       "<text text-anchor=\"middle\" x=\"151\" y=\"-150.2\" font-family=\"Helvetica,sans-Serif\" font-size=\"14.00\">level &lt;= 1.5</text>\n",
       "<text text-anchor=\"middle\" x=\"151\" y=\"-133.7\" font-family=\"Helvetica,sans-Serif\" font-size=\"14.00\">squared_error = 6250000.0</text>\n",
       "<text text-anchor=\"middle\" x=\"151\" y=\"-117.2\" font-family=\"Helvetica,sans-Serif\" font-size=\"14.00\">samples = 2</text>\n",
       "<text text-anchor=\"middle\" x=\"151\" y=\"-100.7\" font-family=\"Helvetica,sans-Serif\" font-size=\"14.00\">value = 47500.0</text>\n",
       "</g>\n",
       "<!-- 3&#45;&gt;4 -->\n",
       "<g id=\"edge4\" class=\"edge\">\n",
       "<title>3&#45;&gt;4</title>\n",
       "<path fill=\"none\" stroke=\"black\" d=\"M263.26,-203.24C248.49,-193.8 232.44,-183.55 217.23,-173.82\"/>\n",
       "<polygon fill=\"black\" stroke=\"black\" points=\"219.47,-171.1 209.16,-168.67 215.7,-177 219.47,-171.1\"/>\n",
       "</g>\n",
       "<!-- 7 -->\n",
       "<g id=\"node8\" class=\"node\">\n",
       "<title>7</title>\n",
       "<polygon fill=\"#fffdfc\" stroke=\"black\" points=\"407,-159.25 265,-159.25 265,-101.75 407,-101.75 407,-159.25\"/>\n",
       "<text text-anchor=\"middle\" x=\"336\" y=\"-141.95\" font-family=\"Helvetica,sans-Serif\" font-size=\"14.00\">squared_error = 0.0</text>\n",
       "<text text-anchor=\"middle\" x=\"336\" y=\"-125.45\" font-family=\"Helvetica,sans-Serif\" font-size=\"14.00\">samples = 1</text>\n",
       "<text text-anchor=\"middle\" x=\"336\" y=\"-108.95\" font-family=\"Helvetica,sans-Serif\" font-size=\"14.00\">value = 60000.0</text>\n",
       "</g>\n",
       "<!-- 3&#45;&gt;7 -->\n",
       "<g id=\"edge7\" class=\"edge\">\n",
       "<title>3&#45;&gt;7</title>\n",
       "<path fill=\"none\" stroke=\"black\" d=\"M325.37,-203.24C326.92,-192.8 328.61,-181.36 330.19,-170.75\"/>\n",
       "<polygon fill=\"black\" stroke=\"black\" points=\"333.61,-171.54 331.61,-161.14 326.68,-170.52 333.61,-171.54\"/>\n",
       "</g>\n",
       "<!-- 5 -->\n",
       "<g id=\"node6\" class=\"node\">\n",
       "<title>5</title>\n",
       "<polygon fill=\"#ffffff\" stroke=\"black\" points=\"142,-57.5 0,-57.5 0,0 142,0 142,-57.5\"/>\n",
       "<text text-anchor=\"middle\" x=\"71\" y=\"-40.2\" font-family=\"Helvetica,sans-Serif\" font-size=\"14.00\">squared_error = 0.0</text>\n",
       "<text text-anchor=\"middle\" x=\"71\" y=\"-23.7\" font-family=\"Helvetica,sans-Serif\" font-size=\"14.00\">samples = 1</text>\n",
       "<text text-anchor=\"middle\" x=\"71\" y=\"-7.2\" font-family=\"Helvetica,sans-Serif\" font-size=\"14.00\">value = 45000.0</text>\n",
       "</g>\n",
       "<!-- 4&#45;&gt;5 -->\n",
       "<g id=\"edge5\" class=\"edge\">\n",
       "<title>4&#45;&gt;5</title>\n",
       "<path fill=\"none\" stroke=\"black\" d=\"M121.89,-93.21C114.93,-84.52 107.49,-75.25 100.51,-66.54\"/>\n",
       "<polygon fill=\"black\" stroke=\"black\" points=\"103.37,-64.52 94.39,-58.91 97.91,-68.9 103.37,-64.52\"/>\n",
       "</g>\n",
       "<!-- 6 -->\n",
       "<g id=\"node7\" class=\"node\">\n",
       "<title>6</title>\n",
       "<polygon fill=\"#fffefe\" stroke=\"black\" points=\"302,-57.5 160,-57.5 160,0 302,0 302,-57.5\"/>\n",
       "<text text-anchor=\"middle\" x=\"231\" y=\"-40.2\" font-family=\"Helvetica,sans-Serif\" font-size=\"14.00\">squared_error = 0.0</text>\n",
       "<text text-anchor=\"middle\" x=\"231\" y=\"-23.7\" font-family=\"Helvetica,sans-Serif\" font-size=\"14.00\">samples = 1</text>\n",
       "<text text-anchor=\"middle\" x=\"231\" y=\"-7.2\" font-family=\"Helvetica,sans-Serif\" font-size=\"14.00\">value = 50000.0</text>\n",
       "</g>\n",
       "<!-- 4&#45;&gt;6 -->\n",
       "<g id=\"edge6\" class=\"edge\">\n",
       "<title>4&#45;&gt;6</title>\n",
       "<path fill=\"none\" stroke=\"black\" d=\"M180.11,-93.21C187.07,-84.52 194.51,-75.25 201.49,-66.54\"/>\n",
       "<polygon fill=\"black\" stroke=\"black\" points=\"204.09,-68.9 207.61,-58.91 198.63,-64.52 204.09,-68.9\"/>\n",
       "</g>\n",
       "<!-- 9 -->\n",
       "<g id=\"node10\" class=\"node\">\n",
       "<title>9</title>\n",
       "<polygon fill=\"#fefaf8\" stroke=\"black\" points=\"598,-159.25 456,-159.25 456,-101.75 598,-101.75 598,-159.25\"/>\n",
       "<text text-anchor=\"middle\" x=\"527\" y=\"-141.95\" font-family=\"Helvetica,sans-Serif\" font-size=\"14.00\">squared_error = 0.0</text>\n",
       "<text text-anchor=\"middle\" x=\"527\" y=\"-125.45\" font-family=\"Helvetica,sans-Serif\" font-size=\"14.00\">samples = 1</text>\n",
       "<text text-anchor=\"middle\" x=\"527\" y=\"-108.95\" font-family=\"Helvetica,sans-Serif\" font-size=\"14.00\">value = 80000.0</text>\n",
       "</g>\n",
       "<!-- 8&#45;&gt;9 -->\n",
       "<g id=\"edge9\" class=\"edge\">\n",
       "<title>8&#45;&gt;9</title>\n",
       "<path fill=\"none\" stroke=\"black\" d=\"M536.96,-203.24C535.51,-192.8 533.93,-181.36 532.45,-170.75\"/>\n",
       "<polygon fill=\"black\" stroke=\"black\" points=\"535.96,-170.56 531.12,-161.14 529.03,-171.53 535.96,-170.56\"/>\n",
       "</g>\n",
       "<!-- 10 -->\n",
       "<g id=\"node11\" class=\"node\">\n",
       "<title>10</title>\n",
       "<polygon fill=\"#fdf6f2\" stroke=\"black\" points=\"758,-159.25 616,-159.25 616,-101.75 758,-101.75 758,-159.25\"/>\n",
       "<text text-anchor=\"middle\" x=\"687\" y=\"-141.95\" font-family=\"Helvetica,sans-Serif\" font-size=\"14.00\">squared_error = 0.0</text>\n",
       "<text text-anchor=\"middle\" x=\"687\" y=\"-125.45\" font-family=\"Helvetica,sans-Serif\" font-size=\"14.00\">samples = 1</text>\n",
       "<text text-anchor=\"middle\" x=\"687\" y=\"-108.95\" font-family=\"Helvetica,sans-Serif\" font-size=\"14.00\">value = 110000.0</text>\n",
       "</g>\n",
       "<!-- 8&#45;&gt;10 -->\n",
       "<g id=\"edge10\" class=\"edge\">\n",
       "<title>8&#45;&gt;10</title>\n",
       "<path fill=\"none\" stroke=\"black\" d=\"M590.69,-203.24C606.64,-191.35 624.33,-178.18 640.15,-166.4\"/>\n",
       "<polygon fill=\"black\" stroke=\"black\" points=\"642.07,-169.33 648,-160.55 637.89,-163.71 642.07,-169.33\"/>\n",
       "</g>\n",
       "</g>\n",
       "</svg>\n"
      ],
      "text/plain": [
       "<graphviz.sources.Source at 0x18854906040>"
      ]
     },
     "execution_count": 6,
     "metadata": {},
     "output_type": "execute_result"
    }
   ],
   "source": [
    "from sklearn.tree import export_graphviz\n",
    "graph_data = export_graphviz(rt[0] , out_file=None , filled=True , feature_names=[\"level\"])\n",
    "import graphviz\n",
    "graphviz.Source(graph_data , format =\"png\")"
   ]
  }
 ],
 "metadata": {
  "kernelspec": {
   "display_name": "Python 3",
   "language": "python",
   "name": "python3"
  },
  "language_info": {
   "codemirror_mode": {
    "name": "ipython",
    "version": 3
   },
   "file_extension": ".py",
   "mimetype": "text/x-python",
   "name": "python",
   "nbconvert_exporter": "python",
   "pygments_lexer": "ipython3",
   "version": "3.9.13"
  }
 },
 "nbformat": 4,
 "nbformat_minor": 2
}
