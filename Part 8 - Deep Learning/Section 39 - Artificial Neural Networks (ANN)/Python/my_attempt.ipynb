{
 "cells": [
  {
   "cell_type": "code",
   "execution_count": 1,
   "metadata": {},
   "outputs": [
    {
     "name": "stderr",
     "output_type": "stream",
     "text": [
      "2023-07-24 13:09:14.204695: I tensorflow/core/platform/cpu_feature_guard.cc:182] This TensorFlow binary is optimized to use available CPU instructions in performance-critical operations.\n",
      "To enable the following instructions: AVX2 AVX512F AVX512_VNNI FMA, in other operations, rebuild TensorFlow with the appropriate compiler flags.\n"
     ]
    }
   ],
   "source": [
    "import pandas as pd\n",
    "import numpy as np\n",
    "import tensorflow as tf"
   ]
  },
  {
   "cell_type": "code",
   "execution_count": 2,
   "metadata": {},
   "outputs": [],
   "source": [
    "# import the data set\n",
    "df = pd.read_csv(\"Churn_Modelling.csv\")"
   ]
  },
  {
   "cell_type": "code",
   "execution_count": 3,
   "metadata": {},
   "outputs": [
    {
     "name": "stdout",
     "output_type": "stream",
     "text": [
      "[[619 'France' 'Female' ... 1 1 101348.88]\n",
      " [608 'Spain' 'Female' ... 0 1 112542.58]\n",
      " [502 'France' 'Female' ... 1 0 113931.57]\n",
      " ...\n",
      " [709 'France' 'Female' ... 0 1 42085.58]\n",
      " [772 'Germany' 'Male' ... 1 0 92888.52]\n",
      " [792 'France' 'Female' ... 1 0 38190.78]]\n",
      "[1 0 1 ... 1 1 0]\n"
     ]
    }
   ],
   "source": [
    "#Show the dataset\n",
    "X = df.iloc[:, 3:-1].values\n",
    "y = df.iloc[:, -1].values\n",
    "print(X)\n",
    "print(y)"
   ]
  },
  {
   "cell_type": "code",
   "execution_count": 4,
   "metadata": {},
   "outputs": [
    {
     "name": "stdout",
     "output_type": "stream",
     "text": [
      "[[619 'France' 0 42 2 0.0 1 1 1 101348.88]\n",
      " [608 'Spain' 0 41 1 83807.86 1 0 1 112542.58]\n",
      " [502 'France' 0 42 8 159660.8 3 1 0 113931.57]\n",
      " [699 'France' 0 39 1 0.0 2 0 0 93826.63]\n",
      " [850 'Spain' 0 43 2 125510.82 1 1 1 79084.1]\n",
      " [645 'Spain' 1 44 8 113755.78 2 1 0 149756.71]\n",
      " [822 'France' 1 50 7 0.0 2 1 1 10062.8]\n",
      " [376 'Germany' 0 29 4 115046.74 4 1 0 119346.88]\n",
      " [501 'France' 1 44 4 142051.07 2 0 1 74940.5]\n",
      " [684 'France' 1 27 2 134603.88 1 1 1 71725.73]]\n"
     ]
    }
   ],
   "source": [
    "#convert categorical features to label  encoded features\n",
    "from sklearn.preprocessing import LabelEncoder\n",
    "le = LabelEncoder()\n",
    "X[:, 2] = le.fit_transform(X[:, 2])\n",
    "# print after changes of lavel encoding \n",
    "print(X[0:10,:])"
   ]
  },
  {
   "cell_type": "code",
   "execution_count": 6,
   "metadata": {},
   "outputs": [
    {
     "ename": "ImportError",
     "evalue": "cannot import name 'ColumnTransformer' from 'sklearn.preprocessing' (/Users/akashnandan/Library/Python/3.11/lib/python/site-packages/sklearn/preprocessing/__init__.py)",
     "output_type": "error",
     "traceback": [
      "\u001b[0;31m---------------------------------------------------------------------------\u001b[0m",
      "\u001b[0;31mImportError\u001b[0m                               Traceback (most recent call last)",
      "Cell \u001b[0;32mIn[6], line 3\u001b[0m\n\u001b[1;32m      1\u001b[0m \u001b[39m# one hot encoding now \u001b[39;00m\n\u001b[1;32m      2\u001b[0m \u001b[39mfrom\u001b[39;00m \u001b[39msklearn\u001b[39;00m\u001b[39m.\u001b[39;00m\u001b[39mpreprocessing\u001b[39;00m \u001b[39mimport\u001b[39;00m OneHotEncoder\n\u001b[0;32m----> 3\u001b[0m \u001b[39mfrom\u001b[39;00m \u001b[39msklearn\u001b[39;00m\u001b[39m.\u001b[39;00m\u001b[39mpreprocessing\u001b[39;00m \u001b[39mimport\u001b[39;00m ColumnTransformer\n\u001b[1;32m      5\u001b[0m \u001b[39m# encode is name of transformer\u001b[39;00m\n\u001b[1;32m      6\u001b[0m \u001b[39m# onehotencoder is type of transformer \u001b[39;00m\n\u001b[1;32m      7\u001b[0m \u001b[39m# [1] is column to transofmr\u001b[39;00m\n\u001b[1;32m      8\u001b[0m \u001b[39m# passthrough says whatver else , keep as it is\u001b[39;00m\n\u001b[1;32m      9\u001b[0m ct \u001b[39m=\u001b[39m ColumnTransformer(transformers\u001b[39m=\u001b[39m[(\u001b[39m'\u001b[39m\u001b[39monehotencoder\u001b[39m\u001b[39m'\u001b[39m, OneHotEncoder(), [\u001b[39m1\u001b[39m])], remainder\u001b[39m=\u001b[39m\u001b[39m'\u001b[39m\u001b[39mpassthrough\u001b[39m\u001b[39m'\u001b[39m)\n",
      "\u001b[0;31mImportError\u001b[0m: cannot import name 'ColumnTransformer' from 'sklearn.preprocessing' (/Users/akashnandan/Library/Python/3.11/lib/python/site-packages/sklearn/preprocessing/__init__.py)"
     ]
    }
   ],
   "source": [
    "# one hot encoding now \n",
    "from sklearn.preprocessing import OneHotEncoder\n",
    "from sklearn.compose import ColumnTransformer\n",
    "\n",
    "# encode is name of transformer\n",
    "# onehotencoder is type of transformer \n",
    "# [1] is column to transofmr\n",
    "# passthrough says whatver else , keep as it is\n",
    "ct = ColumnTransformer(transformers=[('onehotencoder', OneHotEncoder(), [1])], remainder='passthrough')\n",
    "X = np.array(ct.fit_transform(X))\n",
    "print(X[0:10,:])\n"
   ]
  },
  {
   "cell_type": "code",
   "execution_count": 50,
   "metadata": {},
   "outputs": [
    {
     "name": "stdout",
     "output_type": "stream",
     "text": [
      "Training dataset  (8000, 14)\n"
     ]
    }
   ],
   "source": [
    "# Split to test , train , validation sets\n",
    "from sklearn.model_selection import train_test_split\n",
    "X_train, X_test, y_train, y_test = train_test_split(X, y, test_size = 0.2, random_state = 0) "
   ]
  },
  {
   "cell_type": "code",
   "execution_count": 52,
   "metadata": {},
   "outputs": [
    {
     "name": "stdout",
     "output_type": "stream",
     "text": [
      "Og dataset  (10000, 14)\n",
      "Training dataset  (8000, 14)\n",
      "Test dataset  (2000, 14)\n"
     ]
    }
   ],
   "source": [
    "print(\"Og dataset \",X.shape)\n",
    "print(\"Training dataset \",X_train.shape)\n",
    "print(\"Test dataset \",X_test.shape)"
   ]
  },
  {
   "cell_type": "code",
   "execution_count": 53,
   "metadata": {},
   "outputs": [],
   "source": [
    "# Scaling features\n",
    "from sklearn.preprocessing import StandardScaler\n",
    "sc = StandardScaler()\n",
    "X_train = sc.fit_transform(X_train)\n",
    "X_test = sc.transform(X_test)"
   ]
  },
  {
   "cell_type": "code",
   "execution_count": 55,
   "metadata": {},
   "outputs": [
    {
     "name": "stdout",
     "output_type": "stream",
     "text": [
      "[[ 0.5698444  -0.5698444   0.5698444  -1.01460667  1.74309049  0.16958176\n",
      "  -1.09168714 -0.46460796  0.00666099 -1.21571749  0.8095029   0.64259497\n",
      "  -1.03227043  1.10643166]\n",
      " [-1.75486502  1.75486502 -1.75486502 -1.01460667 -0.57369368 -2.30455945\n",
      "   0.91601335  0.30102557 -1.37744033 -0.00631193 -0.92159124  0.64259497\n",
      "   0.9687384  -0.74866447]\n",
      " [ 0.5698444  -0.5698444   0.5698444   0.98560362 -0.57369368 -1.19119591\n",
      "  -1.09168714 -0.94312892 -1.031415    0.57993469 -0.92159124  0.64259497\n",
      "  -1.03227043  1.48533467]\n",
      " [ 0.5698444  -0.5698444   0.5698444  -1.01460667  1.74309049  0.03556578\n",
      "   0.91601335  0.10961719  0.00666099  0.47312769 -0.92159124  0.64259497\n",
      "  -1.03227043  1.27652776]\n",
      " [ 0.5698444  -0.5698444   0.5698444  -1.01460667  1.74309049  2.05611444\n",
      "  -1.09168714  1.73658844  1.04473698  0.8101927   0.8095029   0.64259497\n",
      "   0.9687384   0.55837842]\n",
      " [-1.75486502  1.75486502 -1.75486502 -1.01460667 -0.57369368  1.29325423\n",
      "  -1.09168714 -0.17749539 -1.031415    0.44253504  0.8095029   0.64259497\n",
      "  -1.03227043  1.63252134]\n",
      " [ 0.5698444  -0.5698444   0.5698444   0.98560362 -0.57369368  1.6128308\n",
      "   0.91601335  0.77954653 -1.37744033  0.30432823 -0.92159124 -1.55619021\n",
      "  -1.03227043  0.48149647]\n",
      " [ 0.5698444  -0.5698444   0.5698444  -1.01460667  1.74309049 -0.54173384\n",
      "   0.91601335  0.20532138  1.04473698 -1.21571749  0.8095029   0.64259497\n",
      "   0.9687384   1.07382167]\n",
      " [ 0.5698444  -0.5698444   0.5698444  -1.01460667  1.74309049 -0.14999481\n",
      "   0.91601335  3.55496808  1.39076231  0.80633029 -0.92159124  0.64259497\n",
      "   0.9687384  -1.04949755]\n",
      " [ 0.5698444  -0.5698444   0.5698444   0.98560362 -0.57369368 -0.29431972\n",
      "  -1.09168714 -0.65601634  0.35268632  1.48636403  0.8095029   0.64259497\n",
      "  -1.03227043  0.01539358]]\n"
     ]
    }
   ],
   "source": [
    "print(X_train[0:10,:])"
   ]
  },
  {
   "cell_type": "code",
   "execution_count": 59,
   "metadata": {},
   "outputs": [],
   "source": [
    "#Building ANN \n",
    "ann = tf.keras.models.Sequential()\n",
    "\n",
    "ann.add(tf.keras.layers.Dense(units=10 , activation='relu'))\n",
    "ann.add(tf.keras.layers.Dense(units=20 , activation='relu'))\n",
    "ann.add(tf.keras.layers.Dense(units=1 , activation='sigmoid'))"
   ]
  },
  {
   "cell_type": "code",
   "execution_count": 60,
   "metadata": {},
   "outputs": [],
   "source": [
    "#compile the ann\n",
    "\n",
    "ann.compile(optimizer='adam',loss='binary_crossentropy',metrics=['accuracy'])"
   ]
  },
  {
   "cell_type": "code",
   "execution_count": 61,
   "metadata": {},
   "outputs": [
    {
     "name": "stdout",
     "output_type": "stream",
     "text": [
      "Epoch 1/100\n",
      "250/250 [==============================] - 1s 2ms/step - loss: 0.5344 - accuracy: 0.7584\n",
      "Epoch 2/100\n",
      "250/250 [==============================] - 0s 2ms/step - loss: 0.4387 - accuracy: 0.8023\n",
      "Epoch 3/100\n",
      "250/250 [==============================] - 1s 2ms/step - loss: 0.4154 - accuracy: 0.8156\n",
      "Epoch 4/100\n",
      "250/250 [==============================] - 0s 2ms/step - loss: 0.3958 - accuracy: 0.8281\n",
      "Epoch 5/100\n",
      "250/250 [==============================] - 0s 2ms/step - loss: 0.3755 - accuracy: 0.8420\n",
      "Epoch 6/100\n",
      "250/250 [==============================] - 0s 2ms/step - loss: 0.3644 - accuracy: 0.8444\n",
      "Epoch 7/100\n",
      "250/250 [==============================] - 0s 2ms/step - loss: 0.3585 - accuracy: 0.8497\n",
      "Epoch 8/100\n",
      "250/250 [==============================] - 1s 2ms/step - loss: 0.3545 - accuracy: 0.8530\n",
      "Epoch 9/100\n",
      "250/250 [==============================] - 0s 2ms/step - loss: 0.3520 - accuracy: 0.8534\n",
      "Epoch 10/100\n",
      "250/250 [==============================] - 0s 2ms/step - loss: 0.3501 - accuracy: 0.8551\n",
      "Epoch 11/100\n",
      "250/250 [==============================] - 0s 2ms/step - loss: 0.3485 - accuracy: 0.8564\n",
      "Epoch 12/100\n",
      "250/250 [==============================] - 0s 2ms/step - loss: 0.3464 - accuracy: 0.8594\n",
      "Epoch 13/100\n",
      "250/250 [==============================] - 0s 2ms/step - loss: 0.3457 - accuracy: 0.8589\n",
      "Epoch 14/100\n",
      "250/250 [==============================] - 0s 2ms/step - loss: 0.3447 - accuracy: 0.8572\n",
      "Epoch 15/100\n",
      "250/250 [==============================] - 0s 2ms/step - loss: 0.3436 - accuracy: 0.8590\n",
      "Epoch 16/100\n",
      "250/250 [==============================] - 1s 3ms/step - loss: 0.3421 - accuracy: 0.8608\n",
      "Epoch 17/100\n",
      "250/250 [==============================] - 0s 2ms/step - loss: 0.3413 - accuracy: 0.8625\n",
      "Epoch 18/100\n",
      "250/250 [==============================] - 0s 2ms/step - loss: 0.3411 - accuracy: 0.8621\n",
      "Epoch 19/100\n",
      "250/250 [==============================] - 0s 2ms/step - loss: 0.3404 - accuracy: 0.8622\n",
      "Epoch 20/100\n",
      "250/250 [==============================] - 0s 2ms/step - loss: 0.3390 - accuracy: 0.8620\n",
      "Epoch 21/100\n",
      "250/250 [==============================] - 1s 2ms/step - loss: 0.3386 - accuracy: 0.8622\n",
      "Epoch 22/100\n",
      "250/250 [==============================] - 0s 2ms/step - loss: 0.3383 - accuracy: 0.8606\n",
      "Epoch 23/100\n",
      "250/250 [==============================] - 0s 2ms/step - loss: 0.3374 - accuracy: 0.8620\n",
      "Epoch 24/100\n",
      "250/250 [==============================] - 0s 1ms/step - loss: 0.3363 - accuracy: 0.8634\n",
      "Epoch 25/100\n",
      "250/250 [==============================] - 0s 1ms/step - loss: 0.3360 - accuracy: 0.8633\n",
      "Epoch 26/100\n",
      "250/250 [==============================] - 0s 1ms/step - loss: 0.3352 - accuracy: 0.8646\n",
      "Epoch 27/100\n",
      "250/250 [==============================] - 0s 1ms/step - loss: 0.3346 - accuracy: 0.8656\n",
      "Epoch 28/100\n",
      "250/250 [==============================] - 0s 1ms/step - loss: 0.3332 - accuracy: 0.8644\n",
      "Epoch 29/100\n",
      "250/250 [==============================] - 0s 2ms/step - loss: 0.3332 - accuracy: 0.8649\n",
      "Epoch 30/100\n",
      "250/250 [==============================] - 0s 2ms/step - loss: 0.3335 - accuracy: 0.8622\n",
      "Epoch 31/100\n",
      "250/250 [==============================] - 0s 2ms/step - loss: 0.3325 - accuracy: 0.8655\n",
      "Epoch 32/100\n",
      "250/250 [==============================] - 0s 2ms/step - loss: 0.3320 - accuracy: 0.8641\n",
      "Epoch 33/100\n",
      "250/250 [==============================] - 0s 2ms/step - loss: 0.3311 - accuracy: 0.8643\n",
      "Epoch 34/100\n",
      "250/250 [==============================] - 0s 1ms/step - loss: 0.3304 - accuracy: 0.8652\n",
      "Epoch 35/100\n",
      "250/250 [==============================] - 0s 2ms/step - loss: 0.3303 - accuracy: 0.8655\n",
      "Epoch 36/100\n",
      "250/250 [==============================] - 0s 1ms/step - loss: 0.3299 - accuracy: 0.8654\n",
      "Epoch 37/100\n",
      "250/250 [==============================] - 0s 2ms/step - loss: 0.3295 - accuracy: 0.8619\n",
      "Epoch 38/100\n",
      "250/250 [==============================] - 0s 2ms/step - loss: 0.3296 - accuracy: 0.8643\n",
      "Epoch 39/100\n",
      "250/250 [==============================] - 0s 2ms/step - loss: 0.3282 - accuracy: 0.8648\n",
      "Epoch 40/100\n",
      "250/250 [==============================] - 0s 2ms/step - loss: 0.3283 - accuracy: 0.8684\n",
      "Epoch 41/100\n",
      "250/250 [==============================] - 1s 2ms/step - loss: 0.3278 - accuracy: 0.8662\n",
      "Epoch 42/100\n",
      "250/250 [==============================] - 1s 2ms/step - loss: 0.3277 - accuracy: 0.8660\n",
      "Epoch 43/100\n",
      "250/250 [==============================] - 0s 2ms/step - loss: 0.3274 - accuracy: 0.8652\n",
      "Epoch 44/100\n",
      "250/250 [==============================] - 0s 2ms/step - loss: 0.3269 - accuracy: 0.8665\n",
      "Epoch 45/100\n",
      "250/250 [==============================] - 0s 1ms/step - loss: 0.3265 - accuracy: 0.8683\n",
      "Epoch 46/100\n",
      "250/250 [==============================] - 0s 2ms/step - loss: 0.3261 - accuracy: 0.8656\n",
      "Epoch 47/100\n",
      "250/250 [==============================] - 0s 2ms/step - loss: 0.3260 - accuracy: 0.8664\n",
      "Epoch 48/100\n",
      "250/250 [==============================] - 0s 1ms/step - loss: 0.3263 - accuracy: 0.8673\n",
      "Epoch 49/100\n",
      "250/250 [==============================] - 0s 2ms/step - loss: 0.3259 - accuracy: 0.8655\n",
      "Epoch 50/100\n",
      "250/250 [==============================] - 0s 1ms/step - loss: 0.3249 - accuracy: 0.8691\n",
      "Epoch 51/100\n",
      "250/250 [==============================] - 0s 1ms/step - loss: 0.3253 - accuracy: 0.8698\n",
      "Epoch 52/100\n",
      "250/250 [==============================] - 0s 2ms/step - loss: 0.3247 - accuracy: 0.8675\n",
      "Epoch 53/100\n",
      "250/250 [==============================] - 0s 2ms/step - loss: 0.3250 - accuracy: 0.8674\n",
      "Epoch 54/100\n",
      "250/250 [==============================] - 0s 2ms/step - loss: 0.3246 - accuracy: 0.8673\n",
      "Epoch 55/100\n",
      "250/250 [==============================] - 0s 1ms/step - loss: 0.3246 - accuracy: 0.8669\n",
      "Epoch 56/100\n",
      "250/250 [==============================] - 0s 2ms/step - loss: 0.3242 - accuracy: 0.8679\n",
      "Epoch 57/100\n",
      "250/250 [==============================] - 0s 1ms/step - loss: 0.3245 - accuracy: 0.8683\n",
      "Epoch 58/100\n",
      "250/250 [==============================] - 0s 1ms/step - loss: 0.3239 - accuracy: 0.8666\n",
      "Epoch 59/100\n",
      "250/250 [==============================] - 0s 1ms/step - loss: 0.3239 - accuracy: 0.8685\n",
      "Epoch 60/100\n",
      "250/250 [==============================] - 0s 2ms/step - loss: 0.3237 - accuracy: 0.8666\n",
      "Epoch 61/100\n",
      "250/250 [==============================] - 0s 2ms/step - loss: 0.3235 - accuracy: 0.8676\n",
      "Epoch 62/100\n",
      "250/250 [==============================] - 0s 1ms/step - loss: 0.3234 - accuracy: 0.8668\n",
      "Epoch 63/100\n",
      "250/250 [==============================] - 0s 1ms/step - loss: 0.3231 - accuracy: 0.8677\n",
      "Epoch 64/100\n",
      "250/250 [==============================] - 0s 1ms/step - loss: 0.3225 - accuracy: 0.8700\n",
      "Epoch 65/100\n",
      "250/250 [==============================] - 0s 1ms/step - loss: 0.3229 - accuracy: 0.8686\n",
      "Epoch 66/100\n",
      "250/250 [==============================] - 0s 2ms/step - loss: 0.3231 - accuracy: 0.8673\n",
      "Epoch 67/100\n",
      "250/250 [==============================] - 0s 2ms/step - loss: 0.3222 - accuracy: 0.8694\n",
      "Epoch 68/100\n",
      "250/250 [==============================] - 0s 2ms/step - loss: 0.3227 - accuracy: 0.8670\n",
      "Epoch 69/100\n",
      "250/250 [==============================] - 0s 1ms/step - loss: 0.3219 - accuracy: 0.8689\n",
      "Epoch 70/100\n",
      "250/250 [==============================] - 0s 2ms/step - loss: 0.3227 - accuracy: 0.8680\n",
      "Epoch 71/100\n",
      "250/250 [==============================] - 0s 2ms/step - loss: 0.3221 - accuracy: 0.8665\n",
      "Epoch 72/100\n",
      "250/250 [==============================] - 0s 2ms/step - loss: 0.3219 - accuracy: 0.8687\n",
      "Epoch 73/100\n",
      "250/250 [==============================] - 0s 2ms/step - loss: 0.3217 - accuracy: 0.8676\n",
      "Epoch 74/100\n",
      "250/250 [==============================] - 0s 1ms/step - loss: 0.3210 - accuracy: 0.8669\n",
      "Epoch 75/100\n",
      "250/250 [==============================] - 0s 1ms/step - loss: 0.3214 - accuracy: 0.8679\n",
      "Epoch 76/100\n",
      "250/250 [==============================] - 0s 1ms/step - loss: 0.3216 - accuracy: 0.8677\n",
      "Epoch 77/100\n",
      "250/250 [==============================] - 0s 1ms/step - loss: 0.3218 - accuracy: 0.8691\n",
      "Epoch 78/100\n",
      "250/250 [==============================] - 0s 2ms/step - loss: 0.3216 - accuracy: 0.8668\n",
      "Epoch 79/100\n",
      "250/250 [==============================] - 0s 1ms/step - loss: 0.3206 - accuracy: 0.8681\n",
      "Epoch 80/100\n",
      "250/250 [==============================] - 0s 2ms/step - loss: 0.3212 - accuracy: 0.8696\n",
      "Epoch 81/100\n",
      "250/250 [==============================] - 0s 1ms/step - loss: 0.3207 - accuracy: 0.8675\n",
      "Epoch 82/100\n",
      "250/250 [==============================] - 0s 1ms/step - loss: 0.3207 - accuracy: 0.8675\n",
      "Epoch 83/100\n",
      "250/250 [==============================] - 0s 1ms/step - loss: 0.3203 - accuracy: 0.8677\n",
      "Epoch 84/100\n",
      "250/250 [==============================] - 0s 1ms/step - loss: 0.3196 - accuracy: 0.8701\n",
      "Epoch 85/100\n",
      "250/250 [==============================] - 0s 2ms/step - loss: 0.3208 - accuracy: 0.8699\n",
      "Epoch 86/100\n",
      "250/250 [==============================] - 0s 1ms/step - loss: 0.3198 - accuracy: 0.8705\n",
      "Epoch 87/100\n",
      "250/250 [==============================] - 0s 1ms/step - loss: 0.3192 - accuracy: 0.8698\n",
      "Epoch 88/100\n",
      "250/250 [==============================] - 0s 1ms/step - loss: 0.3198 - accuracy: 0.8698\n",
      "Epoch 89/100\n",
      "250/250 [==============================] - 0s 1ms/step - loss: 0.3198 - accuracy: 0.8683\n",
      "Epoch 90/100\n",
      "250/250 [==============================] - 0s 2ms/step - loss: 0.3190 - accuracy: 0.8700\n",
      "Epoch 91/100\n",
      "250/250 [==============================] - 0s 1ms/step - loss: 0.3188 - accuracy: 0.8692\n",
      "Epoch 92/100\n",
      "250/250 [==============================] - 0s 2ms/step - loss: 0.3193 - accuracy: 0.8699\n",
      "Epoch 93/100\n",
      "250/250 [==============================] - 0s 2ms/step - loss: 0.3189 - accuracy: 0.8695\n",
      "Epoch 94/100\n",
      "250/250 [==============================] - 0s 2ms/step - loss: 0.3190 - accuracy: 0.8706\n",
      "Epoch 95/100\n",
      "250/250 [==============================] - 0s 1ms/step - loss: 0.3185 - accuracy: 0.8695\n",
      "Epoch 96/100\n",
      "250/250 [==============================] - 0s 1ms/step - loss: 0.3187 - accuracy: 0.8699\n",
      "Epoch 97/100\n",
      "250/250 [==============================] - 0s 1ms/step - loss: 0.3185 - accuracy: 0.8726\n",
      "Epoch 98/100\n",
      "250/250 [==============================] - 0s 2ms/step - loss: 0.3185 - accuracy: 0.8704\n",
      "Epoch 99/100\n",
      "250/250 [==============================] - 0s 2ms/step - loss: 0.3191 - accuracy: 0.8699\n",
      "Epoch 100/100\n",
      "250/250 [==============================] - 0s 1ms/step - loss: 0.3180 - accuracy: 0.8701\n"
     ]
    },
    {
     "data": {
      "text/plain": [
       "<keras.src.callbacks.History at 0x1384852d0>"
      ]
     },
     "execution_count": 61,
     "metadata": {},
     "output_type": "execute_result"
    }
   ],
   "source": [
    "#train the model by fitting to dataset\n",
    "ann.fit(X_train,y_train,epochs=100,batch_size=32)"
   ]
  },
  {
   "cell_type": "code",
   "execution_count": 78,
   "metadata": {},
   "outputs": [],
   "source": [
    "def predictCategory(probability):\n",
    "    if probability <0.5:\n",
    "        print(\"Will Not Exit\")\n",
    "    else:\n",
    "        print(\"Will Exit\")"
   ]
  },
  {
   "cell_type": "code",
   "execution_count": 85,
   "metadata": {},
   "outputs": [
    {
     "name": "stdout",
     "output_type": "stream",
     "text": [
      "train dataset prediction\n",
      "(1, 14)\n",
      "1/1 [==============================] - 0s 30ms/step\n",
      "Will Not Exit\n",
      "train dataset actual\n",
      "Will Not Exit\n"
     ]
    }
   ],
   "source": [
    "print(\"train dataset prediction :\")\n",
    "print(X_train[1:2,:].shape)\n",
    "# print(X_test.shape)\n",
    "predictCategory(ann.predict(X_train[1:2,:])[0][0])\n",
    "print(\"train dataset actual :\")\n",
    "predictCategory(y_train[0])"
   ]
  },
  {
   "cell_type": "code",
   "execution_count": 87,
   "metadata": {},
   "outputs": [
    {
     "name": "stdout",
     "output_type": "stream",
     "text": [
      "63/63 [==============================] - 0s 1ms/step\n",
      "[[0 0]\n",
      " [0 1]\n",
      " [0 0]\n",
      " ...\n",
      " [0 0]\n",
      " [0 0]\n",
      " [0 0]]\n"
     ]
    }
   ],
   "source": [
    "\n",
    "y_pred = ann.predict(X_test)\n",
    "y_pred = (y_pred > 0.5)\n",
    "\n",
    "#why reshape???\n",
    "print(np.concatenate((y_pred.reshape(len(y_pred),1), y_test.reshape(len(y_test),1)),1))"
   ]
  },
  {
   "cell_type": "code",
   "execution_count": 89,
   "metadata": {},
   "outputs": [
    {
     "name": "stdout",
     "output_type": "stream",
     "text": [
      "[[1507   88]\n",
      " [ 187  218]]\n"
     ]
    },
    {
     "data": {
      "text/plain": [
       "0.8625"
      ]
     },
     "execution_count": 89,
     "metadata": {},
     "output_type": "execute_result"
    }
   ],
   "source": [
    "#confusion matrix \n",
    "\n",
    "from sklearn.metrics import confusion_matrix, accuracy_score \n",
    "cm = confusion_matrix(y_test, y_pred)\n",
    "print(cm)\n",
    "accuracy_score(y_test, y_pred)"
   ]
  },
  {
   "cell_type": "code",
   "execution_count": null,
   "metadata": {},
   "outputs": [],
   "source": [
    "truePositive = cm[0][0]\n",
    "falsePositive = cm[0][1]\n",
    "falseNegative = cm[0][1]\n",
    "print(\"precision =\",truePositive/(truePositive+falsePositive))\n",
    "print(\"recall =\",truePositive/(truePositive+falseNegative))"
   ]
  }
 ],
 "metadata": {
  "kernelspec": {
   "display_name": "Python 3 (ipykernel)",
   "language": "python",
   "name": "python3"
  },
  "language_info": {
   "codemirror_mode": {
    "name": "ipython",
    "version": 3
   },
   "file_extension": ".py",
   "mimetype": "text/x-python",
   "name": "python",
   "nbconvert_exporter": "python",
   "pygments_lexer": "ipython3",
   "version": "3.11.3"
  },
  "orig_nbformat": 4
 },
 "nbformat": 4,
 "nbformat_minor": 2
}
